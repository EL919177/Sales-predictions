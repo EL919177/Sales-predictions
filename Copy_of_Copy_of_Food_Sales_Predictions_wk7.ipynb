{
  "nbformat": 4,
  "nbformat_minor": 0,
  "metadata": {
    "colab": {
      "name": "Copy of Copy of Food-Sales-Predictions-wk7.ipynb",
      "provenance": [],
      "collapsed_sections": [],
      "mount_file_id": "https://github.com/EL919177/EL919177/blob/main/Copy_of_Food_Sales_Predictions_wk6.ipynb",
      "authorship_tag": "ABX9TyNJ/lMAMKYaH/1OUxySqsGz",
      "include_colab_link": true
    },
    "kernelspec": {
      "name": "python3",
      "display_name": "Python 3"
    },
    "language_info": {
      "name": "python"
    }
  },
  "cells": [
    {
      "cell_type": "markdown",
      "metadata": {
        "id": "view-in-github",
        "colab_type": "text"
      },
      "source": [
        "<a href=\"https://colab.research.google.com/github/EL919177/Sales-predictions/blob/main/Copy_of_Copy_of_Food_Sales_Predictions_wk7.ipynb\" target=\"_parent\"><img src=\"https://colab.research.google.com/assets/colab-badge.svg\" alt=\"Open In Colab\"/></a>"
      ]
    },
    {
      "cell_type": "code",
      "execution_count": null,
      "metadata": {
        "id": "O7-rS5jGv8MR"
      },
      "outputs": [],
      "source": [
        "import pandas as pd\n",
        "file_path = '/content/drive/MyDrive/01 Week 1: Python/sales_predictions (2).csv'\n",
        "df = pd.read_csv(file_path)"
      ]
    },
    {
      "cell_type": "code",
      "source": [
        "df.head()"
      ],
      "metadata": {
        "colab": {
          "base_uri": "https://localhost:8080/",
          "height": 357
        },
        "id": "1Ix3JdInCavB",
        "outputId": "2a904616-d135-4ce9-cc9c-3992f7629e39"
      },
      "execution_count": null,
      "outputs": [
        {
          "output_type": "execute_result",
          "data": {
            "text/plain": [
              "  Item_Identifier  Item_Weight Item_Fat_Content  Item_Visibility  \\\n",
              "0           FDA15         9.30          Low Fat         0.016047   \n",
              "1           DRC01         5.92          Regular         0.019278   \n",
              "2           FDN15        17.50          Low Fat         0.016760   \n",
              "3           FDX07        19.20          Regular         0.000000   \n",
              "4           NCD19         8.93          Low Fat         0.000000   \n",
              "\n",
              "               Item_Type  Item_MRP Outlet_Identifier  \\\n",
              "0                  Dairy  249.8092            OUT049   \n",
              "1            Soft Drinks   48.2692            OUT018   \n",
              "2                   Meat  141.6180            OUT049   \n",
              "3  Fruits and Vegetables  182.0950            OUT010   \n",
              "4              Household   53.8614            OUT013   \n",
              "\n",
              "   Outlet_Establishment_Year Outlet_Size Outlet_Location_Type  \\\n",
              "0                       1999      Medium               Tier 1   \n",
              "1                       2009      Medium               Tier 3   \n",
              "2                       1999      Medium               Tier 1   \n",
              "3                       1998         NaN               Tier 3   \n",
              "4                       1987        High               Tier 3   \n",
              "\n",
              "         Outlet_Type  Item_Outlet_Sales  \n",
              "0  Supermarket Type1          3735.1380  \n",
              "1  Supermarket Type2           443.4228  \n",
              "2  Supermarket Type1          2097.2700  \n",
              "3      Grocery Store           732.3800  \n",
              "4  Supermarket Type1           994.7052  "
            ],
            "text/html": [
              "\n",
              "  <div id=\"df-e19b4317-49c1-4c83-a198-a057f8e2cab5\">\n",
              "    <div class=\"colab-df-container\">\n",
              "      <div>\n",
              "<style scoped>\n",
              "    .dataframe tbody tr th:only-of-type {\n",
              "        vertical-align: middle;\n",
              "    }\n",
              "\n",
              "    .dataframe tbody tr th {\n",
              "        vertical-align: top;\n",
              "    }\n",
              "\n",
              "    .dataframe thead th {\n",
              "        text-align: right;\n",
              "    }\n",
              "</style>\n",
              "<table border=\"1\" class=\"dataframe\">\n",
              "  <thead>\n",
              "    <tr style=\"text-align: right;\">\n",
              "      <th></th>\n",
              "      <th>Item_Identifier</th>\n",
              "      <th>Item_Weight</th>\n",
              "      <th>Item_Fat_Content</th>\n",
              "      <th>Item_Visibility</th>\n",
              "      <th>Item_Type</th>\n",
              "      <th>Item_MRP</th>\n",
              "      <th>Outlet_Identifier</th>\n",
              "      <th>Outlet_Establishment_Year</th>\n",
              "      <th>Outlet_Size</th>\n",
              "      <th>Outlet_Location_Type</th>\n",
              "      <th>Outlet_Type</th>\n",
              "      <th>Item_Outlet_Sales</th>\n",
              "    </tr>\n",
              "  </thead>\n",
              "  <tbody>\n",
              "    <tr>\n",
              "      <th>0</th>\n",
              "      <td>FDA15</td>\n",
              "      <td>9.30</td>\n",
              "      <td>Low Fat</td>\n",
              "      <td>0.016047</td>\n",
              "      <td>Dairy</td>\n",
              "      <td>249.8092</td>\n",
              "      <td>OUT049</td>\n",
              "      <td>1999</td>\n",
              "      <td>Medium</td>\n",
              "      <td>Tier 1</td>\n",
              "      <td>Supermarket Type1</td>\n",
              "      <td>3735.1380</td>\n",
              "    </tr>\n",
              "    <tr>\n",
              "      <th>1</th>\n",
              "      <td>DRC01</td>\n",
              "      <td>5.92</td>\n",
              "      <td>Regular</td>\n",
              "      <td>0.019278</td>\n",
              "      <td>Soft Drinks</td>\n",
              "      <td>48.2692</td>\n",
              "      <td>OUT018</td>\n",
              "      <td>2009</td>\n",
              "      <td>Medium</td>\n",
              "      <td>Tier 3</td>\n",
              "      <td>Supermarket Type2</td>\n",
              "      <td>443.4228</td>\n",
              "    </tr>\n",
              "    <tr>\n",
              "      <th>2</th>\n",
              "      <td>FDN15</td>\n",
              "      <td>17.50</td>\n",
              "      <td>Low Fat</td>\n",
              "      <td>0.016760</td>\n",
              "      <td>Meat</td>\n",
              "      <td>141.6180</td>\n",
              "      <td>OUT049</td>\n",
              "      <td>1999</td>\n",
              "      <td>Medium</td>\n",
              "      <td>Tier 1</td>\n",
              "      <td>Supermarket Type1</td>\n",
              "      <td>2097.2700</td>\n",
              "    </tr>\n",
              "    <tr>\n",
              "      <th>3</th>\n",
              "      <td>FDX07</td>\n",
              "      <td>19.20</td>\n",
              "      <td>Regular</td>\n",
              "      <td>0.000000</td>\n",
              "      <td>Fruits and Vegetables</td>\n",
              "      <td>182.0950</td>\n",
              "      <td>OUT010</td>\n",
              "      <td>1998</td>\n",
              "      <td>NaN</td>\n",
              "      <td>Tier 3</td>\n",
              "      <td>Grocery Store</td>\n",
              "      <td>732.3800</td>\n",
              "    </tr>\n",
              "    <tr>\n",
              "      <th>4</th>\n",
              "      <td>NCD19</td>\n",
              "      <td>8.93</td>\n",
              "      <td>Low Fat</td>\n",
              "      <td>0.000000</td>\n",
              "      <td>Household</td>\n",
              "      <td>53.8614</td>\n",
              "      <td>OUT013</td>\n",
              "      <td>1987</td>\n",
              "      <td>High</td>\n",
              "      <td>Tier 3</td>\n",
              "      <td>Supermarket Type1</td>\n",
              "      <td>994.7052</td>\n",
              "    </tr>\n",
              "  </tbody>\n",
              "</table>\n",
              "</div>\n",
              "      <button class=\"colab-df-convert\" onclick=\"convertToInteractive('df-e19b4317-49c1-4c83-a198-a057f8e2cab5')\"\n",
              "              title=\"Convert this dataframe to an interactive table.\"\n",
              "              style=\"display:none;\">\n",
              "        \n",
              "  <svg xmlns=\"http://www.w3.org/2000/svg\" height=\"24px\"viewBox=\"0 0 24 24\"\n",
              "       width=\"24px\">\n",
              "    <path d=\"M0 0h24v24H0V0z\" fill=\"none\"/>\n",
              "    <path d=\"M18.56 5.44l.94 2.06.94-2.06 2.06-.94-2.06-.94-.94-2.06-.94 2.06-2.06.94zm-11 1L8.5 8.5l.94-2.06 2.06-.94-2.06-.94L8.5 2.5l-.94 2.06-2.06.94zm10 10l.94 2.06.94-2.06 2.06-.94-2.06-.94-.94-2.06-.94 2.06-2.06.94z\"/><path d=\"M17.41 7.96l-1.37-1.37c-.4-.4-.92-.59-1.43-.59-.52 0-1.04.2-1.43.59L10.3 9.45l-7.72 7.72c-.78.78-.78 2.05 0 2.83L4 21.41c.39.39.9.59 1.41.59.51 0 1.02-.2 1.41-.59l7.78-7.78 2.81-2.81c.8-.78.8-2.07 0-2.86zM5.41 20L4 18.59l7.72-7.72 1.47 1.35L5.41 20z\"/>\n",
              "  </svg>\n",
              "      </button>\n",
              "      \n",
              "  <style>\n",
              "    .colab-df-container {\n",
              "      display:flex;\n",
              "      flex-wrap:wrap;\n",
              "      gap: 12px;\n",
              "    }\n",
              "\n",
              "    .colab-df-convert {\n",
              "      background-color: #E8F0FE;\n",
              "      border: none;\n",
              "      border-radius: 50%;\n",
              "      cursor: pointer;\n",
              "      display: none;\n",
              "      fill: #1967D2;\n",
              "      height: 32px;\n",
              "      padding: 0 0 0 0;\n",
              "      width: 32px;\n",
              "    }\n",
              "\n",
              "    .colab-df-convert:hover {\n",
              "      background-color: #E2EBFA;\n",
              "      box-shadow: 0px 1px 2px rgba(60, 64, 67, 0.3), 0px 1px 3px 1px rgba(60, 64, 67, 0.15);\n",
              "      fill: #174EA6;\n",
              "    }\n",
              "\n",
              "    [theme=dark] .colab-df-convert {\n",
              "      background-color: #3B4455;\n",
              "      fill: #D2E3FC;\n",
              "    }\n",
              "\n",
              "    [theme=dark] .colab-df-convert:hover {\n",
              "      background-color: #434B5C;\n",
              "      box-shadow: 0px 1px 3px 1px rgba(0, 0, 0, 0.15);\n",
              "      filter: drop-shadow(0px 1px 2px rgba(0, 0, 0, 0.3));\n",
              "      fill: #FFFFFF;\n",
              "    }\n",
              "  </style>\n",
              "\n",
              "      <script>\n",
              "        const buttonEl =\n",
              "          document.querySelector('#df-e19b4317-49c1-4c83-a198-a057f8e2cab5 button.colab-df-convert');\n",
              "        buttonEl.style.display =\n",
              "          google.colab.kernel.accessAllowed ? 'block' : 'none';\n",
              "\n",
              "        async function convertToInteractive(key) {\n",
              "          const element = document.querySelector('#df-e19b4317-49c1-4c83-a198-a057f8e2cab5');\n",
              "          const dataTable =\n",
              "            await google.colab.kernel.invokeFunction('convertToInteractive',\n",
              "                                                     [key], {});\n",
              "          if (!dataTable) return;\n",
              "\n",
              "          const docLinkHtml = 'Like what you see? Visit the ' +\n",
              "            '<a target=\"_blank\" href=https://colab.research.google.com/notebooks/data_table.ipynb>data table notebook</a>'\n",
              "            + ' to learn more about interactive tables.';\n",
              "          element.innerHTML = '';\n",
              "          dataTable['output_type'] = 'display_data';\n",
              "          await google.colab.output.renderOutput(dataTable, element);\n",
              "          const docLink = document.createElement('div');\n",
              "          docLink.innerHTML = docLinkHtml;\n",
              "          element.appendChild(docLink);\n",
              "        }\n",
              "      </script>\n",
              "    </div>\n",
              "  </div>\n",
              "  "
            ]
          },
          "metadata": {},
          "execution_count": 6
        }
      ]
    },
    {
      "cell_type": "code",
      "source": [
        "len(df), len(df.columns)"
      ],
      "metadata": {
        "colab": {
          "base_uri": "https://localhost:8080/"
        },
        "id": "de8u71U17Ice",
        "outputId": "d7118aca-c2f2-42c1-cbc8-418341181a37"
      },
      "execution_count": null,
      "outputs": [
        {
          "output_type": "execute_result",
          "data": {
            "text/plain": [
              "(8523, 12)"
            ]
          },
          "metadata": {},
          "execution_count": 7
        }
      ]
    },
    {
      "cell_type": "code",
      "source": [
        "df.info()"
      ],
      "metadata": {
        "colab": {
          "base_uri": "https://localhost:8080/"
        },
        "id": "kJ6ulbur7gLt",
        "outputId": "88295e67-88c2-47aa-c927-9678c2ee4434"
      },
      "execution_count": null,
      "outputs": [
        {
          "output_type": "stream",
          "name": "stdout",
          "text": [
            "<class 'pandas.core.frame.DataFrame'>\n",
            "RangeIndex: 8523 entries, 0 to 8522\n",
            "Data columns (total 12 columns):\n",
            " #   Column                     Non-Null Count  Dtype  \n",
            "---  ------                     --------------  -----  \n",
            " 0   Item_Identifier            8523 non-null   object \n",
            " 1   Item_Weight                7060 non-null   float64\n",
            " 2   Item_Fat_Content           8523 non-null   object \n",
            " 3   Item_Visibility            8523 non-null   float64\n",
            " 4   Item_Type                  8523 non-null   object \n",
            " 5   Item_MRP                   8523 non-null   float64\n",
            " 6   Outlet_Identifier          8523 non-null   object \n",
            " 7   Outlet_Establishment_Year  8523 non-null   int64  \n",
            " 8   Outlet_Size                6113 non-null   object \n",
            " 9   Outlet_Location_Type       8523 non-null   object \n",
            " 10  Outlet_Type                8523 non-null   object \n",
            " 11  Item_Outlet_Sales          8523 non-null   float64\n",
            "dtypes: float64(4), int64(1), object(7)\n",
            "memory usage: 799.2+ KB\n"
          ]
        }
      ]
    },
    {
      "cell_type": "code",
      "source": [
        "df.duplicated().sum()"
      ],
      "metadata": {
        "colab": {
          "base_uri": "https://localhost:8080/"
        },
        "id": "VenMy-5i8GNq",
        "outputId": "bc2c0ce2-7d84-418a-ffcb-0e00ae4213c9"
      },
      "execution_count": null,
      "outputs": [
        {
          "output_type": "execute_result",
          "data": {
            "text/plain": [
              "0"
            ]
          },
          "metadata": {},
          "execution_count": 9
        }
      ]
    },
    {
      "cell_type": "code",
      "source": [
        "df.isnull().sum().sort_values(ascending=False)/len(df)"
      ],
      "metadata": {
        "colab": {
          "base_uri": "https://localhost:8080/"
        },
        "id": "FCX8-JKPG17o",
        "outputId": "0ed30199-5b13-4cb7-843a-0a45e7582d13"
      },
      "execution_count": null,
      "outputs": [
        {
          "output_type": "execute_result",
          "data": {
            "text/plain": [
              "Outlet_Size                  0.282764\n",
              "Item_Weight                  0.171653\n",
              "Item_Identifier              0.000000\n",
              "Item_Fat_Content             0.000000\n",
              "Item_Visibility              0.000000\n",
              "Item_Type                    0.000000\n",
              "Item_MRP                     0.000000\n",
              "Outlet_Identifier            0.000000\n",
              "Outlet_Establishment_Year    0.000000\n",
              "Outlet_Location_Type         0.000000\n",
              "Outlet_Type                  0.000000\n",
              "Item_Outlet_Sales            0.000000\n",
              "dtype: float64"
            ]
          },
          "metadata": {},
          "execution_count": 10
        }
      ]
    },
    {
      "cell_type": "code",
      "source": [
        "df['Item_Weight'].min(),df['Item_Weight'].max(),df['Item_Weight'].mean()"
      ],
      "metadata": {
        "colab": {
          "base_uri": "https://localhost:8080/"
        },
        "id": "oJNFhsyYPJU1",
        "outputId": "ac34380f-3b4e-4da2-ecdc-2cc5f3e90c49"
      },
      "execution_count": null,
      "outputs": [
        {
          "output_type": "execute_result",
          "data": {
            "text/plain": [
              "(4.555, 21.35, 12.857645184136183)"
            ]
          },
          "metadata": {},
          "execution_count": 11
        }
      ]
    },
    {
      "cell_type": "code",
      "source": [
        "from seaborn.distributions import histplot\n",
        "import seaborn as sns\n",
        "import matplotlib.pyplot as plt\n",
        "sns.histplot(data=df, x='Item_MRP');"
      ],
      "metadata": {
        "colab": {
          "base_uri": "https://localhost:8080/",
          "height": 280
        },
        "id": "jN8OvBc-jffv",
        "outputId": "cec10b00-d0c2-480b-c61e-466a2f6334a8"
      },
      "execution_count": null,
      "outputs": [
        {
          "output_type": "display_data",
          "data": {
            "text/plain": [
              "<Figure size 432x288 with 1 Axes>"
            ],
            "image/png": "[encoded data removed]"
          },
          "metadata": {
            "needs_background": "light"
          }
        }
      ]
    },
    {
      "cell_type": "markdown",
      "source": [
        "This indicates that the greater amount of middle range MRP, possibly reflecting a greater number of sales of middle ITEM MRP with a few upticks in high or low end MRP products."
      ],
      "metadata": {
        "id": "D_3uB3uuey33"
      }
    },
    {
      "cell_type": "code",
      "source": [
        "sns.boxplot(data=df, x='Item_Outlet_Sales');\n",
        "\n",
        "plt.xlabel('', fontsize = 20);\n",
        "plt.xticks(fontsize = 16);\n",
        "plt.yticks(fontsize = 16);"
      ],
      "metadata": {
        "colab": {
          "base_uri": "https://localhost:8080/",
          "height": 270
        },
        "id": "3oVr7pqklknB",
        "outputId": "c33600ae-ae43-4ff6-ee04-a68fee1bf0a2"
      },
      "execution_count": null,
      "outputs": [
        {
          "output_type": "display_data",
          "data": {
            "text/plain": [
              "<Figure size 432x288 with 1 Axes>"
            ],
            "image/png": "[encoded data removed]"
          },
          "metadata": {
            "needs_background": "light"
          }
        }
      ]
    },
    {
      "cell_type": "markdown",
      "source": [
        "This indicates a higher average of sales tend to be in the 2000s range but has a large set of outliers in the higher ranges."
      ],
      "metadata": {
        "id": "yWRZ_ZQ9nv_G"
      }
    },
    {
      "cell_type": "code",
      "source": [
        "corr = df.corr()\n",
        "sns.heatmap(corr,cmap='Blues',annot=True);"
      ],
      "metadata": {
        "colab": {
          "base_uri": "https://localhost:8080/",
          "height": 392
        },
        "id": "I4oF1vSGruJc",
        "outputId": "deb010b4-a936-42c3-e6bb-c44847df0f08"
      },
      "execution_count": null,
      "outputs": [
        {
          "output_type": "display_data",
          "data": {
            "text/plain": [
              "<Figure size 432x288 with 2 Axes>"
            ],
            "image/png": "[encoded data removed]"
          },
          "metadata": {
            "needs_background": "light"
          }
        }
      ]
    },
    {
      "cell_type": "markdown",
      "source": [
        "This shows a moderate correlation between MRP and SALES, which indicate that the sales are favorable with mid-range MRP products. "
      ],
      "metadata": {
        "id": "nAkEHjyXoBDi"
      }
    },
    {
      "cell_type": "markdown",
      "source": [
        "Now, does Item MRP or Item Visibility affect sales?"
      ],
      "metadata": {
        "id": "nn7WlaWS4K1F"
      }
    },
    {
      "cell_type": "code",
      "source": [
        "line_df = df.groupby('Outlet_Establishment_Year').mean()\n",
        "line_df\n",
        "line_df.plot(y=['Item_Outlet_Sales','Item_MRP','Item_Weight','Item_Visibility'], subplots=True, marker='o',figsize=(16,12));"
      ],
      "metadata": {
        "colab": {
          "base_uri": "https://localhost:8080/",
          "height": 715
        },
        "id": "35zcs9z7qmiM",
        "outputId": "2c04e68e-0d6f-4ac5-e814-a028db83a3cb"
      },
      "execution_count": null,
      "outputs": [
        {
          "output_type": "display_data",
          "data": {
            "text/plain": [
              "<Figure size 1152x864 with 4 Axes>"
            ],
            "image/png": "[encoded data removed]"
          },
          "metadata": {
            "needs_background": "light"
          }
        }
      ]
    },
    {
      "cell_type": "markdown",
      "source": [
        "Interestingly enough, Visibility and Sales present a very inverse relationship upon one another in hiwch the more Visiblity, the less sales have beem made throughout the year, while MRP has less of an impact "
      ],
      "metadata": {
        "id": "mxEVVoCS9HRb"
      }
    },
    {
      "cell_type": "code",
      "source": [
        "fig, axes = plt.subplots(nrows=3, figsize=(12,9))\n",
        "\n",
        "# sns.barplot(data=df, x='Status', y='Life expectancy', ax=axes[0])\n",
        "sns.barplot(data=df, x='Outlet_Establishment_Year', y='Item_Visibility', ax=axes[0])\n",
        "axes[0].set_title('Effects of Item Visiblity over the Years', fontsize=10, fontweight='bold')\n",
        "\n",
        "sns.barplot(data=df, x='Outlet_Establishment_Year', y='Item_Outlet_Sales', ax=axes[1])\n",
        "axes[1].set_title('Sales over the years', fontsize=10, fontweight='bold')\n",
        "\n",
        "sns.barplot(data=df, x='Outlet_Establishment_Year', y='Item_MRP', ax=axes[2])\n",
        "axes[2].set_title('Effects of Item MRP over the years', fontsize=10, fontweight='bold')\n",
        "\n",
        "fig.suptitle('Sales Per Year As Told By Factors',fontsize=25,fontweight='bold', y=1.03)\n",
        "\n",
        "fig.tight_layout()"
      ],
      "metadata": {
        "colab": {
          "base_uri": "https://localhost:8080/",
          "height": 688
        },
        "id": "6t3KYKvwx-OD",
        "outputId": "6621756e-1ce7-4e5d-87eb-838ed0013a75"
      },
      "execution_count": null,
      "outputs": [
        {
          "output_type": "display_data",
          "data": {
            "text/plain": [
              "<Figure size 864x648 with 3 Axes>"
            ],
            "image/png": "[encoded data removed]"
          },
          "metadata": {
            "needs_background": "light"
          }
        }
      ]
    },
    {
      "cell_type": "markdown",
      "source": [
        "It seems that greater Visibility may negatively impact sales whereas MRP is stable throughout the years and is not indicative on whether the year was successful, but it may the that the Visibility was increased as a response to low sales in 1998."
      ],
      "metadata": {
        "id": "xDK1qhCo4vMF"
      }
    },
    {
      "cell_type": "code",
      "source": [
        "from sklearn.model_selection import train_test_split\n",
        "from sklearn.compose import make_column_selector, make_column_transformer\n",
        "from sklearn.impute import SimpleImputer\n",
        "from sklearn.pipeline import make_pipeline\n",
        "from sklearn.preprocessing import StandardScaler, OneHotEncoder\n",
        "import numpy as np \n",
        "from sklearn import set_config\n",
        "set_config(display='diagram')"
      ],
      "metadata": {
        "id": "I5LM0Qz0j2nH"
      },
      "execution_count": null,
      "outputs": []
    },
    {
      "cell_type": "code",
      "source": [
        "df.duplicated().sum()\n",
        "# No duplicates to remove in this instance"
      ],
      "metadata": {
        "colab": {
          "base_uri": "https://localhost:8080/"
        },
        "id": "kJfHeF8Fi7tp",
        "outputId": "f36f2651-7028-45de-d895-e9ce192da4a3"
      },
      "execution_count": null,
      "outputs": [
        {
          "output_type": "execute_result",
          "data": {
            "text/plain": [
              "0"
            ]
          },
          "metadata": {},
          "execution_count": 18
        }
      ]
    },
    {
      "cell_type": "code",
      "source": [
        "print(df.info(), '\\n')\n",
        "print(df.isna().sum())\n",
        "# The dataset has two features in which missing values are found. One is Numerical and other is Categorical"
      ],
      "metadata": {
        "colab": {
          "base_uri": "https://localhost:8080/"
        },
        "id": "e2X9T2j1cV2Y",
        "outputId": "4cc50fa8-0c1e-41ee-e9b1-4a36ec249222"
      },
      "execution_count": null,
      "outputs": [
        {
          "output_type": "stream",
          "name": "stdout",
          "text": [
            "<class 'pandas.core.frame.DataFrame'>\n",
            "RangeIndex: 8523 entries, 0 to 8522\n",
            "Data columns (total 12 columns):\n",
            " #   Column                     Non-Null Count  Dtype  \n",
            "---  ------                     --------------  -----  \n",
            " 0   Item_Identifier            8523 non-null   object \n",
            " 1   Item_Weight                7060 non-null   float64\n",
            " 2   Item_Fat_Content           8523 non-null   object \n",
            " 3   Item_Visibility            8523 non-null   float64\n",
            " 4   Item_Type                  8523 non-null   object \n",
            " 5   Item_MRP                   8523 non-null   float64\n",
            " 6   Outlet_Identifier          8523 non-null   object \n",
            " 7   Outlet_Establishment_Year  8523 non-null   int64  \n",
            " 8   Outlet_Size                6113 non-null   object \n",
            " 9   Outlet_Location_Type       8523 non-null   object \n",
            " 10  Outlet_Type                8523 non-null   object \n",
            " 11  Item_Outlet_Sales          8523 non-null   float64\n",
            "dtypes: float64(4), int64(1), object(7)\n",
            "memory usage: 799.2+ KB\n",
            "None \n",
            "\n",
            "Item_Identifier                 0\n",
            "Item_Weight                  1463\n",
            "Item_Fat_Content                0\n",
            "Item_Visibility                 0\n",
            "Item_Type                       0\n",
            "Item_MRP                        0\n",
            "Outlet_Identifier               0\n",
            "Outlet_Establishment_Year       0\n",
            "Outlet_Size                  2410\n",
            "Outlet_Location_Type            0\n",
            "Outlet_Type                     0\n",
            "Item_Outlet_Sales               0\n",
            "dtype: int64\n"
          ]
        }
      ]
    },
    {
      "cell_type": "markdown",
      "source": [
        "From what I see, the vast majority of missing values are in Item Weight and Outlet size. Interestingly enough, the Outlet Size and Location Types are Ordinal features as well as Outlet Type."
      ],
      "metadata": {
        "id": "vgE9SmCli2R7"
      }
    },
    {
      "cell_type": "code",
      "source": [
        "print(df['Outlet_Size'].value_counts(),'\\n')\n",
        "print(df['Outlet_Location_Type'].value_counts(),'\\n')\n",
        "print(df['Outlet_Type'].value_counts(),'\\n')\n",
        "print(df['Item_Fat_Content'].value_counts(),'\\n')"
      ],
      "metadata": {
        "colab": {
          "base_uri": "https://localhost:8080/"
        },
        "id": "Uy-PTcod3b1i",
        "outputId": "abbccdd8-78f0-4505-8254-68c294307669"
      },
      "execution_count": null,
      "outputs": [
        {
          "output_type": "stream",
          "name": "stdout",
          "text": [
            "Medium    2793\n",
            "Small     2388\n",
            "High       932\n",
            "Name: Outlet_Size, dtype: int64 \n",
            "\n",
            "Tier 3    3350\n",
            "Tier 2    2785\n",
            "Tier 1    2388\n",
            "Name: Outlet_Location_Type, dtype: int64 \n",
            "\n",
            "Supermarket Type1    5577\n",
            "Grocery Store        1083\n",
            "Supermarket Type3     935\n",
            "Supermarket Type2     928\n",
            "Name: Outlet_Type, dtype: int64 \n",
            "\n",
            "Low Fat    5089\n",
            "Regular    2889\n",
            "LF          316\n",
            "reg         117\n",
            "low fat     112\n",
            "Name: Item_Fat_Content, dtype: int64 \n",
            "\n"
          ]
        }
      ]
    },
    {
      "cell_type": "code",
      "source": [
        "replacement_cat = {'LF':'Low Fat','reg':'Regular','low fat':'Low Fat'}\n",
        "df['Item_Fat_Content'].replace(replacement_cat, inplace=True)\n",
        "df['Item_Fat_Content'].value_counts()\n",
        "replacement_dictionary = {'High':2, 'Medium':1, 'Small':0}\n",
        "df['Outlet_Size'].replace(replacement_dictionary, inplace=True)\n",
        "df['Outlet_Size']\n",
        "replacement_dictionary = {'Tier 3':2, 'Tier 2':1, 'Tier 1':0}\n",
        "df['Outlet_Location_Type'].replace(replacement_dictionary, inplace=True)\n",
        "df['Outlet_Location_Type']\n",
        "replacement_dictionary = {'Grocery Store':3, 'Supermarket Type3':2, 'Supermarket Type2':1, 'Supermarket Type1':0}\n",
        "df['Outlet_Type'].replace(replacement_dictionary, inplace=True)\n",
        "df['Outlet_Type']"
      ],
      "metadata": {
        "colab": {
          "base_uri": "https://localhost:8080/"
        },
        "id": "-IiXMaS33Vxg",
        "outputId": "312150a3-e414-40d0-fd37-5a6e368f64cf"
      },
      "execution_count": null,
      "outputs": [
        {
          "output_type": "execute_result",
          "data": {
            "text/plain": [
              "0       0\n",
              "1       1\n",
              "2       0\n",
              "3       3\n",
              "4       0\n",
              "       ..\n",
              "8518    0\n",
              "8519    0\n",
              "8520    0\n",
              "8521    1\n",
              "8522    0\n",
              "Name: Outlet_Type, Length: 8523, dtype: int64"
            ]
          },
          "metadata": {},
          "execution_count": 21
        }
      ]
    },
    {
      "cell_type": "code",
      "source": [
        "df.drop(columns='Item_Identifier', axis=1, inplace=True)\n",
        "# Considering how many unique values this column had, it would be burdesome to hot-encode them.\n",
        "# Hence, to mediate the variance for this shipment, the column was decided to be dropped."
      ],
      "metadata": {
        "id": "DPPGfFkszUEY"
      },
      "execution_count": null,
      "outputs": []
    },
    {
      "cell_type": "code",
      "source": [
        "# In the previous notebook, the data was imputed prior to a datasplit using various methods. \n",
        "# In this instance, the data split would be done, and imputation will be performed after.\n",
        "y = df['Item_Outlet_Sales']\n",
        "X = df.drop(columns='Item_Outlet_Sales')"
      ],
      "metadata": {
        "id": "uQt-_cAnkEy9"
      },
      "execution_count": null,
      "outputs": []
    },
    {
      "cell_type": "code",
      "source": [
        "X_train, X_test, y_train, y_test = train_test_split(X, y, random_state=42)"
      ],
      "metadata": {
        "id": "p9ccLbRikc4j"
      },
      "execution_count": null,
      "outputs": []
    },
    {
      "cell_type": "code",
      "source": [
        "# I separate the selectors by the given dtype for imputation\n",
        "num_selector = make_column_selector(dtype_include='number')\n",
        "cat_selector = make_column_selector(dtype_include='object')"
      ],
      "metadata": {
        "id": "6gNvxSYzkybl"
      },
      "execution_count": null,
      "outputs": []
    },
    {
      "cell_type": "code",
      "source": [
        "mean_imputer = SimpleImputer(strategy='mean')\n",
        "freq_imputer = SimpleImputer(strategy='most_frequent')\n",
        "# Mean was selected for the numerical values so as to mantain the decimal points for the numerical features\n",
        "\n",
        "scale = StandardScaler()\n",
        "ohe = OneHotEncoder(handle_unknown='ignore',sparse=False)"
      ],
      "metadata": {
        "id": "e50KxuBJd4LM"
      },
      "execution_count": null,
      "outputs": []
    },
    {
      "cell_type": "code",
      "source": [
        "num_pipeline = make_pipeline(mean_imputer, scale)\n",
        "num_pipeline"
      ],
      "metadata": {
        "colab": {
          "base_uri": "https://localhost:8080/",
          "height": 126
        },
        "id": "vw0Fh2zelsZm",
        "outputId": "776e571c-4025-4440-f1e5-d802f75b25cb"
      },
      "execution_count": null,
      "outputs": [
        {
          "output_type": "execute_result",
          "data": {
            "text/plain": [
              "Pipeline(steps=[('simpleimputer', SimpleImputer()),\n",
              "                ('standardscaler', StandardScaler())])"
            ],
            "text/html": [
              "<style>#sk-9619d95a-bb17-4bf1-9603-32837d0eaa1d {color: black;background-color: white;}#sk-9619d95a-bb17-4bf1-9603-32837d0eaa1d pre{padding: 0;}#sk-9619d95a-bb17-4bf1-9603-32837d0eaa1d div.sk-toggleable {background-color: white;}#sk-9619d95a-bb17-4bf1-9603-32837d0eaa1d label.sk-toggleable__label {cursor: pointer;display: block;width: 100%;margin-bottom: 0;padding: 0.3em;box-sizing: border-box;text-align: center;}#sk-9619d95a-bb17-4bf1-9603-32837d0eaa1d label.sk-toggleable__label-arrow:before {content: \"▸\";float: left;margin-right: 0.25em;color: #696969;}#sk-9619d95a-bb17-4bf1-9603-32837d0eaa1d label.sk-toggleable__label-arrow:hover:before {color: black;}#sk-9619d95a-bb17-4bf1-9603-32837d0eaa1d div.sk-estimator:hover label.sk-toggleable__label-arrow:before {color: black;}#sk-9619d95a-bb17-4bf1-9603-32837d0eaa1d div.sk-toggleable__content {max-height: 0;max-width: 0;overflow: hidden;text-align: left;background-color: #f0f8ff;}#sk-9619d95a-bb17-4bf1-9603-32837d0eaa1d div.sk-toggleable__content pre {margin: 0.2em;color: black;border-radius: 0.25em;background-color: #f0f8ff;}#sk-9619d95a-bb17-4bf1-9603-32837d0eaa1d input.sk-toggleable__control:checked~div.sk-toggleable__content {max-height: 200px;max-width: 100%;overflow: auto;}#sk-9619d95a-bb17-4bf1-9603-32837d0eaa1d input.sk-toggleable__control:checked~label.sk-toggleable__label-arrow:before {content: \"▾\";}#sk-9619d95a-bb17-4bf1-9603-32837d0eaa1d div.sk-estimator input.sk-toggleable__control:checked~label.sk-toggleable__label {background-color: #d4ebff;}#sk-9619d95a-bb17-4bf1-9603-32837d0eaa1d div.sk-label input.sk-toggleable__control:checked~label.sk-toggleable__label {background-color: #d4ebff;}#sk-9619d95a-bb17-4bf1-9603-32837d0eaa1d input.sk-hidden--visually {border: 0;clip: rect(1px 1px 1px 1px);clip: rect(1px, 1px, 1px, 1px);height: 1px;margin: -1px;overflow: hidden;padding: 0;position: absolute;width: 1px;}#sk-9619d95a-bb17-4bf1-9603-32837d0eaa1d div.sk-estimator {font-family: monospace;background-color: #f0f8ff;border: 1px dotted black;border-radius: 0.25em;box-sizing: border-box;margin-bottom: 0.5em;}#sk-9619d95a-bb17-4bf1-9603-32837d0eaa1d div.sk-estimator:hover {background-color: #d4ebff;}#sk-9619d95a-bb17-4bf1-9603-32837d0eaa1d div.sk-parallel-item::after {content: \"\";width: 100%;border-bottom: 1px solid gray;flex-grow: 1;}#sk-9619d95a-bb17-4bf1-9603-32837d0eaa1d div.sk-label:hover label.sk-toggleable__label {background-color: #d4ebff;}#sk-9619d95a-bb17-4bf1-9603-32837d0eaa1d div.sk-serial::before {content: \"\";position: absolute;border-left: 1px solid gray;box-sizing: border-box;top: 2em;bottom: 0;left: 50%;}#sk-9619d95a-bb17-4bf1-9603-32837d0eaa1d div.sk-serial {display: flex;flex-direction: column;align-items: center;background-color: white;padding-right: 0.2em;padding-left: 0.2em;}#sk-9619d95a-bb17-4bf1-9603-32837d0eaa1d div.sk-item {z-index: 1;}#sk-9619d95a-bb17-4bf1-9603-32837d0eaa1d div.sk-parallel {display: flex;align-items: stretch;justify-content: center;background-color: white;}#sk-9619d95a-bb17-4bf1-9603-32837d0eaa1d div.sk-parallel::before {content: \"\";position: absolute;border-left: 1px solid gray;box-sizing: border-box;top: 2em;bottom: 0;left: 50%;}#sk-9619d95a-bb17-4bf1-9603-32837d0eaa1d div.sk-parallel-item {display: flex;flex-direction: column;position: relative;background-color: white;}#sk-9619d95a-bb17-4bf1-9603-32837d0eaa1d div.sk-parallel-item:first-child::after {align-self: flex-end;width: 50%;}#sk-9619d95a-bb17-4bf1-9603-32837d0eaa1d div.sk-parallel-item:last-child::after {align-self: flex-start;width: 50%;}#sk-9619d95a-bb17-4bf1-9603-32837d0eaa1d div.sk-parallel-item:only-child::after {width: 0;}#sk-9619d95a-bb17-4bf1-9603-32837d0eaa1d div.sk-dashed-wrapped {border: 1px dashed gray;margin: 0 0.4em 0.5em 0.4em;box-sizing: border-box;padding-bottom: 0.4em;background-color: white;position: relative;}#sk-9619d95a-bb17-4bf1-9603-32837d0eaa1d div.sk-label label {font-family: monospace;font-weight: bold;background-color: white;display: inline-block;line-height: 1.2em;}#sk-9619d95a-bb17-4bf1-9603-32837d0eaa1d div.sk-label-container {position: relative;z-index: 2;text-align: center;}#sk-9619d95a-bb17-4bf1-9603-32837d0eaa1d div.sk-container {/* jupyter's `normalize.less` sets `[hidden] { display: none; }` but bootstrap.min.css set `[hidden] { display: none !important; }` so we also need the `!important` here to be able to override the default hidden behavior on the sphinx rendered scikit-learn.org. See: https://github.com/scikit-learn/scikit-learn/issues/21755 */display: inline-block !important;position: relative;}#sk-9619d95a-bb17-4bf1-9603-32837d0eaa1d div.sk-text-repr-fallback {display: none;}</style><div id=\"sk-9619d95a-bb17-4bf1-9603-32837d0eaa1d\" class=\"sk-top-container\"><div class=\"sk-text-repr-fallback\"><pre>Pipeline(steps=[(&#x27;simpleimputer&#x27;, SimpleImputer()),\n",
              "                (&#x27;standardscaler&#x27;, StandardScaler())])</pre><b>Please rerun this cell to show the HTML repr or trust the notebook.</b></div><div class=\"sk-container\" hidden><div class=\"sk-item sk-dashed-wrapped\"><div class=\"sk-label-container\"><div class=\"sk-label sk-toggleable\"><input class=\"sk-toggleable__control sk-hidden--visually\" id=\"b46ebc5b-cca2-4a6a-9ae0-cbe627a5d7c1\" type=\"checkbox\" ><label for=\"b46ebc5b-cca2-4a6a-9ae0-cbe627a5d7c1\" class=\"sk-toggleable__label sk-toggleable__label-arrow\">Pipeline</label><div class=\"sk-toggleable__content\"><pre>Pipeline(steps=[(&#x27;simpleimputer&#x27;, SimpleImputer()),\n",
              "                (&#x27;standardscaler&#x27;, StandardScaler())])</pre></div></div></div><div class=\"sk-serial\"><div class=\"sk-item\"><div class=\"sk-estimator sk-toggleable\"><input class=\"sk-toggleable__control sk-hidden--visually\" id=\"e9301e45-577d-410d-917b-461a27d6c806\" type=\"checkbox\" ><label for=\"e9301e45-577d-410d-917b-461a27d6c806\" class=\"sk-toggleable__label sk-toggleable__label-arrow\">SimpleImputer</label><div class=\"sk-toggleable__content\"><pre>SimpleImputer()</pre></div></div></div><div class=\"sk-item\"><div class=\"sk-estimator sk-toggleable\"><input class=\"sk-toggleable__control sk-hidden--visually\" id=\"ee140895-c38d-4307-8541-eba82dfa3a61\" type=\"checkbox\" ><label for=\"ee140895-c38d-4307-8541-eba82dfa3a61\" class=\"sk-toggleable__label sk-toggleable__label-arrow\">StandardScaler</label><div class=\"sk-toggleable__content\"><pre>StandardScaler()</pre></div></div></div></div></div></div></div>"
            ]
          },
          "metadata": {},
          "execution_count": 27
        }
      ]
    },
    {
      "cell_type": "code",
      "source": [
        "cat_pipeline = make_pipeline(freq_imputer, ohe)\n",
        "cat_pipeline"
      ],
      "metadata": {
        "colab": {
          "base_uri": "https://localhost:8080/",
          "height": 126
        },
        "id": "mn1oFRiplzWt",
        "outputId": "155bcb20-8042-4ca5-9b59-c744c7d5d2b0"
      },
      "execution_count": null,
      "outputs": [
        {
          "output_type": "execute_result",
          "data": {
            "text/plain": [
              "Pipeline(steps=[('simpleimputer', SimpleImputer(strategy='most_frequent')),\n",
              "                ('onehotencoder',\n",
              "                 OneHotEncoder(handle_unknown='ignore', sparse=False))])"
            ],
            "text/html": [
              "<style>#sk-124ea45e-1bbf-4f30-95b5-6e1b09c2130b {color: black;background-color: white;}#sk-124ea45e-1bbf-4f30-95b5-6e1b09c2130b pre{padding: 0;}#sk-124ea45e-1bbf-4f30-95b5-6e1b09c2130b div.sk-toggleable {background-color: white;}#sk-124ea45e-1bbf-4f30-95b5-6e1b09c2130b label.sk-toggleable__label {cursor: pointer;display: block;width: 100%;margin-bottom: 0;padding: 0.3em;box-sizing: border-box;text-align: center;}#sk-124ea45e-1bbf-4f30-95b5-6e1b09c2130b label.sk-toggleable__label-arrow:before {content: \"▸\";float: left;margin-right: 0.25em;color: #696969;}#sk-124ea45e-1bbf-4f30-95b5-6e1b09c2130b label.sk-toggleable__label-arrow:hover:before {color: black;}#sk-124ea45e-1bbf-4f30-95b5-6e1b09c2130b div.sk-estimator:hover label.sk-toggleable__label-arrow:before {color: black;}#sk-124ea45e-1bbf-4f30-95b5-6e1b09c2130b div.sk-toggleable__content {max-height: 0;max-width: 0;overflow: hidden;text-align: left;background-color: #f0f8ff;}#sk-124ea45e-1bbf-4f30-95b5-6e1b09c2130b div.sk-toggleable__content pre {margin: 0.2em;color: black;border-radius: 0.25em;background-color: #f0f8ff;}#sk-124ea45e-1bbf-4f30-95b5-6e1b09c2130b input.sk-toggleable__control:checked~div.sk-toggleable__content {max-height: 200px;max-width: 100%;overflow: auto;}#sk-124ea45e-1bbf-4f30-95b5-6e1b09c2130b input.sk-toggleable__control:checked~label.sk-toggleable__label-arrow:before {content: \"▾\";}#sk-124ea45e-1bbf-4f30-95b5-6e1b09c2130b div.sk-estimator input.sk-toggleable__control:checked~label.sk-toggleable__label {background-color: #d4ebff;}#sk-124ea45e-1bbf-4f30-95b5-6e1b09c2130b div.sk-label input.sk-toggleable__control:checked~label.sk-toggleable__label {background-color: #d4ebff;}#sk-124ea45e-1bbf-4f30-95b5-6e1b09c2130b input.sk-hidden--visually {border: 0;clip: rect(1px 1px 1px 1px);clip: rect(1px, 1px, 1px, 1px);height: 1px;margin: -1px;overflow: hidden;padding: 0;position: absolute;width: 1px;}#sk-124ea45e-1bbf-4f30-95b5-6e1b09c2130b div.sk-estimator {font-family: monospace;background-color: #f0f8ff;border: 1px dotted black;border-radius: 0.25em;box-sizing: border-box;margin-bottom: 0.5em;}#sk-124ea45e-1bbf-4f30-95b5-6e1b09c2130b div.sk-estimator:hover {background-color: #d4ebff;}#sk-124ea45e-1bbf-4f30-95b5-6e1b09c2130b div.sk-parallel-item::after {content: \"\";width: 100%;border-bottom: 1px solid gray;flex-grow: 1;}#sk-124ea45e-1bbf-4f30-95b5-6e1b09c2130b div.sk-label:hover label.sk-toggleable__label {background-color: #d4ebff;}#sk-124ea45e-1bbf-4f30-95b5-6e1b09c2130b div.sk-serial::before {content: \"\";position: absolute;border-left: 1px solid gray;box-sizing: border-box;top: 2em;bottom: 0;left: 50%;}#sk-124ea45e-1bbf-4f30-95b5-6e1b09c2130b div.sk-serial {display: flex;flex-direction: column;align-items: center;background-color: white;padding-right: 0.2em;padding-left: 0.2em;}#sk-124ea45e-1bbf-4f30-95b5-6e1b09c2130b div.sk-item {z-index: 1;}#sk-124ea45e-1bbf-4f30-95b5-6e1b09c2130b div.sk-parallel {display: flex;align-items: stretch;justify-content: center;background-color: white;}#sk-124ea45e-1bbf-4f30-95b5-6e1b09c2130b div.sk-parallel::before {content: \"\";position: absolute;border-left: 1px solid gray;box-sizing: border-box;top: 2em;bottom: 0;left: 50%;}#sk-124ea45e-1bbf-4f30-95b5-6e1b09c2130b div.sk-parallel-item {display: flex;flex-direction: column;position: relative;background-color: white;}#sk-124ea45e-1bbf-4f30-95b5-6e1b09c2130b div.sk-parallel-item:first-child::after {align-self: flex-end;width: 50%;}#sk-124ea45e-1bbf-4f30-95b5-6e1b09c2130b div.sk-parallel-item:last-child::after {align-self: flex-start;width: 50%;}#sk-124ea45e-1bbf-4f30-95b5-6e1b09c2130b div.sk-parallel-item:only-child::after {width: 0;}#sk-124ea45e-1bbf-4f30-95b5-6e1b09c2130b div.sk-dashed-wrapped {border: 1px dashed gray;margin: 0 0.4em 0.5em 0.4em;box-sizing: border-box;padding-bottom: 0.4em;background-color: white;position: relative;}#sk-124ea45e-1bbf-4f30-95b5-6e1b09c2130b div.sk-label label {font-family: monospace;font-weight: bold;background-color: white;display: inline-block;line-height: 1.2em;}#sk-124ea45e-1bbf-4f30-95b5-6e1b09c2130b div.sk-label-container {position: relative;z-index: 2;text-align: center;}#sk-124ea45e-1bbf-4f30-95b5-6e1b09c2130b div.sk-container {/* jupyter's `normalize.less` sets `[hidden] { display: none; }` but bootstrap.min.css set `[hidden] { display: none !important; }` so we also need the `!important` here to be able to override the default hidden behavior on the sphinx rendered scikit-learn.org. See: https://github.com/scikit-learn/scikit-learn/issues/21755 */display: inline-block !important;position: relative;}#sk-124ea45e-1bbf-4f30-95b5-6e1b09c2130b div.sk-text-repr-fallback {display: none;}</style><div id=\"sk-124ea45e-1bbf-4f30-95b5-6e1b09c2130b\" class=\"sk-top-container\"><div class=\"sk-text-repr-fallback\"><pre>Pipeline(steps=[(&#x27;simpleimputer&#x27;, SimpleImputer(strategy=&#x27;most_frequent&#x27;)),\n",
              "                (&#x27;onehotencoder&#x27;,\n",
              "                 OneHotEncoder(handle_unknown=&#x27;ignore&#x27;, sparse=False))])</pre><b>Please rerun this cell to show the HTML repr or trust the notebook.</b></div><div class=\"sk-container\" hidden><div class=\"sk-item sk-dashed-wrapped\"><div class=\"sk-label-container\"><div class=\"sk-label sk-toggleable\"><input class=\"sk-toggleable__control sk-hidden--visually\" id=\"c3a4bc37-bf31-41a3-b982-24f046698946\" type=\"checkbox\" ><label for=\"c3a4bc37-bf31-41a3-b982-24f046698946\" class=\"sk-toggleable__label sk-toggleable__label-arrow\">Pipeline</label><div class=\"sk-toggleable__content\"><pre>Pipeline(steps=[(&#x27;simpleimputer&#x27;, SimpleImputer(strategy=&#x27;most_frequent&#x27;)),\n",
              "                (&#x27;onehotencoder&#x27;,\n",
              "                 OneHotEncoder(handle_unknown=&#x27;ignore&#x27;, sparse=False))])</pre></div></div></div><div class=\"sk-serial\"><div class=\"sk-item\"><div class=\"sk-estimator sk-toggleable\"><input class=\"sk-toggleable__control sk-hidden--visually\" id=\"cf44f32a-9791-4841-afcd-4b3b878b26f4\" type=\"checkbox\" ><label for=\"cf44f32a-9791-4841-afcd-4b3b878b26f4\" class=\"sk-toggleable__label sk-toggleable__label-arrow\">SimpleImputer</label><div class=\"sk-toggleable__content\"><pre>SimpleImputer(strategy=&#x27;most_frequent&#x27;)</pre></div></div></div><div class=\"sk-item\"><div class=\"sk-estimator sk-toggleable\"><input class=\"sk-toggleable__control sk-hidden--visually\" id=\"b9eadeb3-47be-481a-945d-a9b77c90485c\" type=\"checkbox\" ><label for=\"b9eadeb3-47be-481a-945d-a9b77c90485c\" class=\"sk-toggleable__label sk-toggleable__label-arrow\">OneHotEncoder</label><div class=\"sk-toggleable__content\"><pre>OneHotEncoder(handle_unknown=&#x27;ignore&#x27;, sparse=False)</pre></div></div></div></div></div></div></div>"
            ]
          },
          "metadata": {},
          "execution_count": 28
        }
      ]
    },
    {
      "cell_type": "code",
      "source": [
        "num_tuple = (num_pipeline, num_selector)\n",
        "cat_tuple = (cat_pipeline, cat_selector)\n",
        "preprocessor = make_column_transformer(num_tuple, cat_tuple, remainder='passthrough')\n",
        "preprocessor\n",
        "# This method is to fit in the imputers and the Scaler/Encoder so as to prepare for preprocessing."
      ],
      "metadata": {
        "colab": {
          "base_uri": "https://localhost:8080/",
          "height": 152
        },
        "id": "t-Jtl2HQDSnd",
        "outputId": "ae0694cb-544e-4226-a6a5-5b8ec251356f"
      },
      "execution_count": null,
      "outputs": [
        {
          "output_type": "execute_result",
          "data": {
            "text/plain": [
              "ColumnTransformer(remainder='passthrough',\n",
              "                  transformers=[('pipeline-1',\n",
              "                                 Pipeline(steps=[('simpleimputer',\n",
              "                                                  SimpleImputer()),\n",
              "                                                 ('standardscaler',\n",
              "                                                  StandardScaler())]),\n",
              "                                 <sklearn.compose._column_transformer.make_column_selector object at 0x7f52fc1e9a50>),\n",
              "                                ('pipeline-2',\n",
              "                                 Pipeline(steps=[('simpleimputer',\n",
              "                                                  SimpleImputer(strategy='most_frequent')),\n",
              "                                                 ('onehotencoder',\n",
              "                                                  OneHotEncoder(handle_unknown='ignore',\n",
              "                                                                sparse=False))]),\n",
              "                                 <sklearn.compose._column_transformer.make_column_selector object at 0x7f52fc1e9a10>)])"
            ],
            "text/html": [
              "<style>#sk-bdee4972-9119-4e60-b547-38e06f14a284 {color: black;background-color: white;}#sk-bdee4972-9119-4e60-b547-38e06f14a284 pre{padding: 0;}#sk-bdee4972-9119-4e60-b547-38e06f14a284 div.sk-toggleable {background-color: white;}#sk-bdee4972-9119-4e60-b547-38e06f14a284 label.sk-toggleable__label {cursor: pointer;display: block;width: 100%;margin-bottom: 0;padding: 0.3em;box-sizing: border-box;text-align: center;}#sk-bdee4972-9119-4e60-b547-38e06f14a284 label.sk-toggleable__label-arrow:before {content: \"▸\";float: left;margin-right: 0.25em;color: #696969;}#sk-bdee4972-9119-4e60-b547-38e06f14a284 label.sk-toggleable__label-arrow:hover:before {color: black;}#sk-bdee4972-9119-4e60-b547-38e06f14a284 div.sk-estimator:hover label.sk-toggleable__label-arrow:before {color: black;}#sk-bdee4972-9119-4e60-b547-38e06f14a284 div.sk-toggleable__content {max-height: 0;max-width: 0;overflow: hidden;text-align: left;background-color: #f0f8ff;}#sk-bdee4972-9119-4e60-b547-38e06f14a284 div.sk-toggleable__content pre {margin: 0.2em;color: black;border-radius: 0.25em;background-color: #f0f8ff;}#sk-bdee4972-9119-4e60-b547-38e06f14a284 input.sk-toggleable__control:checked~div.sk-toggleable__content {max-height: 200px;max-width: 100%;overflow: auto;}#sk-bdee4972-9119-4e60-b547-38e06f14a284 input.sk-toggleable__control:checked~label.sk-toggleable__label-arrow:before {content: \"▾\";}#sk-bdee4972-9119-4e60-b547-38e06f14a284 div.sk-estimator input.sk-toggleable__control:checked~label.sk-toggleable__label {background-color: #d4ebff;}#sk-bdee4972-9119-4e60-b547-38e06f14a284 div.sk-label input.sk-toggleable__control:checked~label.sk-toggleable__label {background-color: #d4ebff;}#sk-bdee4972-9119-4e60-b547-38e06f14a284 input.sk-hidden--visually {border: 0;clip: rect(1px 1px 1px 1px);clip: rect(1px, 1px, 1px, 1px);height: 1px;margin: -1px;overflow: hidden;padding: 0;position: absolute;width: 1px;}#sk-bdee4972-9119-4e60-b547-38e06f14a284 div.sk-estimator {font-family: monospace;background-color: #f0f8ff;border: 1px dotted black;border-radius: 0.25em;box-sizing: border-box;margin-bottom: 0.5em;}#sk-bdee4972-9119-4e60-b547-38e06f14a284 div.sk-estimator:hover {background-color: #d4ebff;}#sk-bdee4972-9119-4e60-b547-38e06f14a284 div.sk-parallel-item::after {content: \"\";width: 100%;border-bottom: 1px solid gray;flex-grow: 1;}#sk-bdee4972-9119-4e60-b547-38e06f14a284 div.sk-label:hover label.sk-toggleable__label {background-color: #d4ebff;}#sk-bdee4972-9119-4e60-b547-38e06f14a284 div.sk-serial::before {content: \"\";position: absolute;border-left: 1px solid gray;box-sizing: border-box;top: 2em;bottom: 0;left: 50%;}#sk-bdee4972-9119-4e60-b547-38e06f14a284 div.sk-serial {display: flex;flex-direction: column;align-items: center;background-color: white;padding-right: 0.2em;padding-left: 0.2em;}#sk-bdee4972-9119-4e60-b547-38e06f14a284 div.sk-item {z-index: 1;}#sk-bdee4972-9119-4e60-b547-38e06f14a284 div.sk-parallel {display: flex;align-items: stretch;justify-content: center;background-color: white;}#sk-bdee4972-9119-4e60-b547-38e06f14a284 div.sk-parallel::before {content: \"\";position: absolute;border-left: 1px solid gray;box-sizing: border-box;top: 2em;bottom: 0;left: 50%;}#sk-bdee4972-9119-4e60-b547-38e06f14a284 div.sk-parallel-item {display: flex;flex-direction: column;position: relative;background-color: white;}#sk-bdee4972-9119-4e60-b547-38e06f14a284 div.sk-parallel-item:first-child::after {align-self: flex-end;width: 50%;}#sk-bdee4972-9119-4e60-b547-38e06f14a284 div.sk-parallel-item:last-child::after {align-self: flex-start;width: 50%;}#sk-bdee4972-9119-4e60-b547-38e06f14a284 div.sk-parallel-item:only-child::after {width: 0;}#sk-bdee4972-9119-4e60-b547-38e06f14a284 div.sk-dashed-wrapped {border: 1px dashed gray;margin: 0 0.4em 0.5em 0.4em;box-sizing: border-box;padding-bottom: 0.4em;background-color: white;position: relative;}#sk-bdee4972-9119-4e60-b547-38e06f14a284 div.sk-label label {font-family: monospace;font-weight: bold;background-color: white;display: inline-block;line-height: 1.2em;}#sk-bdee4972-9119-4e60-b547-38e06f14a284 div.sk-label-container {position: relative;z-index: 2;text-align: center;}#sk-bdee4972-9119-4e60-b547-38e06f14a284 div.sk-container {/* jupyter's `normalize.less` sets `[hidden] { display: none; }` but bootstrap.min.css set `[hidden] { display: none !important; }` so we also need the `!important` here to be able to override the default hidden behavior on the sphinx rendered scikit-learn.org. See: https://github.com/scikit-learn/scikit-learn/issues/21755 */display: inline-block !important;position: relative;}#sk-bdee4972-9119-4e60-b547-38e06f14a284 div.sk-text-repr-fallback {display: none;}</style><div id=\"sk-bdee4972-9119-4e60-b547-38e06f14a284\" class=\"sk-top-container\"><div class=\"sk-text-repr-fallback\"><pre>ColumnTransformer(remainder=&#x27;passthrough&#x27;,\n",
              "                  transformers=[(&#x27;pipeline-1&#x27;,\n",
              "                                 Pipeline(steps=[(&#x27;simpleimputer&#x27;,\n",
              "                                                  SimpleImputer()),\n",
              "                                                 (&#x27;standardscaler&#x27;,\n",
              "                                                  StandardScaler())]),\n",
              "                                 &lt;sklearn.compose._column_transformer.make_column_selector object at 0x7f52fc1e9a50&gt;),\n",
              "                                (&#x27;pipeline-2&#x27;,\n",
              "                                 Pipeline(steps=[(&#x27;simpleimputer&#x27;,\n",
              "                                                  SimpleImputer(strategy=&#x27;most_frequent&#x27;)),\n",
              "                                                 (&#x27;onehotencoder&#x27;,\n",
              "                                                  OneHotEncoder(handle_unknown=&#x27;ignore&#x27;,\n",
              "                                                                sparse=False))]),\n",
              "                                 &lt;sklearn.compose._column_transformer.make_column_selector object at 0x7f52fc1e9a10&gt;)])</pre><b>Please rerun this cell to show the HTML repr or trust the notebook.</b></div><div class=\"sk-container\" hidden><div class=\"sk-item sk-dashed-wrapped\"><div class=\"sk-label-container\"><div class=\"sk-label sk-toggleable\"><input class=\"sk-toggleable__control sk-hidden--visually\" id=\"756f98c6-60e1-4b5e-8d12-eed61dd20eb3\" type=\"checkbox\" ><label for=\"756f98c6-60e1-4b5e-8d12-eed61dd20eb3\" class=\"sk-toggleable__label sk-toggleable__label-arrow\">ColumnTransformer</label><div class=\"sk-toggleable__content\"><pre>ColumnTransformer(remainder=&#x27;passthrough&#x27;,\n",
              "                  transformers=[(&#x27;pipeline-1&#x27;,\n",
              "                                 Pipeline(steps=[(&#x27;simpleimputer&#x27;,\n",
              "                                                  SimpleImputer()),\n",
              "                                                 (&#x27;standardscaler&#x27;,\n",
              "                                                  StandardScaler())]),\n",
              "                                 &lt;sklearn.compose._column_transformer.make_column_selector object at 0x7f52fc1e9a50&gt;),\n",
              "                                (&#x27;pipeline-2&#x27;,\n",
              "                                 Pipeline(steps=[(&#x27;simpleimputer&#x27;,\n",
              "                                                  SimpleImputer(strategy=&#x27;most_frequent&#x27;)),\n",
              "                                                 (&#x27;onehotencoder&#x27;,\n",
              "                                                  OneHotEncoder(handle_unknown=&#x27;ignore&#x27;,\n",
              "                                                                sparse=False))]),\n",
              "                                 &lt;sklearn.compose._column_transformer.make_column_selector object at 0x7f52fc1e9a10&gt;)])</pre></div></div></div><div class=\"sk-parallel\"><div class=\"sk-parallel-item\"><div class=\"sk-item\"><div class=\"sk-label-container\"><div class=\"sk-label sk-toggleable\"><input class=\"sk-toggleable__control sk-hidden--visually\" id=\"1ef3830b-6b6f-491e-b2a6-fc6b0bfcce80\" type=\"checkbox\" ><label for=\"1ef3830b-6b6f-491e-b2a6-fc6b0bfcce80\" class=\"sk-toggleable__label sk-toggleable__label-arrow\">pipeline-1</label><div class=\"sk-toggleable__content\"><pre>&lt;sklearn.compose._column_transformer.make_column_selector object at 0x7f52fc1e9a50&gt;</pre></div></div></div><div class=\"sk-serial\"><div class=\"sk-item\"><div class=\"sk-serial\"><div class=\"sk-item\"><div class=\"sk-estimator sk-toggleable\"><input class=\"sk-toggleable__control sk-hidden--visually\" id=\"8df05764-1802-4842-b243-22e991fd9e12\" type=\"checkbox\" ><label for=\"8df05764-1802-4842-b243-22e991fd9e12\" class=\"sk-toggleable__label sk-toggleable__label-arrow\">SimpleImputer</label><div class=\"sk-toggleable__content\"><pre>SimpleImputer()</pre></div></div></div><div class=\"sk-item\"><div class=\"sk-estimator sk-toggleable\"><input class=\"sk-toggleable__control sk-hidden--visually\" id=\"73e0c7a4-2beb-498c-94ae-96af8ea63668\" type=\"checkbox\" ><label for=\"73e0c7a4-2beb-498c-94ae-96af8ea63668\" class=\"sk-toggleable__label sk-toggleable__label-arrow\">StandardScaler</label><div class=\"sk-toggleable__content\"><pre>StandardScaler()</pre></div></div></div></div></div></div></div></div><div class=\"sk-parallel-item\"><div class=\"sk-item\"><div class=\"sk-label-container\"><div class=\"sk-label sk-toggleable\"><input class=\"sk-toggleable__control sk-hidden--visually\" id=\"3c63b27a-3acc-4bbc-b84f-b6913e0369c4\" type=\"checkbox\" ><label for=\"3c63b27a-3acc-4bbc-b84f-b6913e0369c4\" class=\"sk-toggleable__label sk-toggleable__label-arrow\">pipeline-2</label><div class=\"sk-toggleable__content\"><pre>&lt;sklearn.compose._column_transformer.make_column_selector object at 0x7f52fc1e9a10&gt;</pre></div></div></div><div class=\"sk-serial\"><div class=\"sk-item\"><div class=\"sk-serial\"><div class=\"sk-item\"><div class=\"sk-estimator sk-toggleable\"><input class=\"sk-toggleable__control sk-hidden--visually\" id=\"e2e61f4d-cfb9-4cf5-9077-d98ffda97c08\" type=\"checkbox\" ><label for=\"e2e61f4d-cfb9-4cf5-9077-d98ffda97c08\" class=\"sk-toggleable__label sk-toggleable__label-arrow\">SimpleImputer</label><div class=\"sk-toggleable__content\"><pre>SimpleImputer(strategy=&#x27;most_frequent&#x27;)</pre></div></div></div><div class=\"sk-item\"><div class=\"sk-estimator sk-toggleable\"><input class=\"sk-toggleable__control sk-hidden--visually\" id=\"616ae98f-56e3-44f7-bde6-e8214fb5cef8\" type=\"checkbox\" ><label for=\"616ae98f-56e3-44f7-bde6-e8214fb5cef8\" class=\"sk-toggleable__label sk-toggleable__label-arrow\">OneHotEncoder</label><div class=\"sk-toggleable__content\"><pre>OneHotEncoder(handle_unknown=&#x27;ignore&#x27;, sparse=False)</pre></div></div></div></div></div></div></div></div><div class=\"sk-parallel-item\"><div class=\"sk-item\"><div class=\"sk-label-container\"><div class=\"sk-label sk-toggleable\"><input class=\"sk-toggleable__control sk-hidden--visually\" id=\"3ebff19b-51d3-4b6e-a15b-97f32ec38312\" type=\"checkbox\" ><label for=\"3ebff19b-51d3-4b6e-a15b-97f32ec38312\" class=\"sk-toggleable__label sk-toggleable__label-arrow\">remainder</label><div class=\"sk-toggleable__content\"><pre></pre></div></div></div><div class=\"sk-serial\"><div class=\"sk-item\"><div class=\"sk-estimator sk-toggleable\"><input class=\"sk-toggleable__control sk-hidden--visually\" id=\"f54ef4be-4009-4731-a3f8-d6cee92c7e9e\" type=\"checkbox\" ><label for=\"f54ef4be-4009-4731-a3f8-d6cee92c7e9e\" class=\"sk-toggleable__label sk-toggleable__label-arrow\">passthrough</label><div class=\"sk-toggleable__content\"><pre>passthrough</pre></div></div></div></div></div></div></div></div></div></div>"
            ]
          },
          "metadata": {},
          "execution_count": 29
        }
      ]
    },
    {
      "cell_type": "code",
      "source": [
        "preprocessor.fit(X_train)\n",
        "X_train_processed = preprocessor.transform(X_train)\n",
        "X_test_processed = preprocessor.transform(X_test)"
      ],
      "metadata": {
        "id": "NvPp2HUAT_HX"
      },
      "execution_count": null,
      "outputs": []
    },
    {
      "cell_type": "code",
      "source": [
        "#After fitting the training data, we now proceed to check for any remaining missing values.\n",
        "print(np.isnan(X_train_processed).sum().sum())\n",
        "print(np.isnan(X_test_processed).sum().sum())"
      ],
      "metadata": {
        "colab": {
          "base_uri": "https://localhost:8080/"
        },
        "id": "zIiUC6L0UYnf",
        "outputId": "3c0f0690-ac36-40af-e156-c0edcd452c51"
      },
      "execution_count": null,
      "outputs": [
        {
          "output_type": "stream",
          "name": "stdout",
          "text": [
            "0\n",
            "0\n"
          ]
        }
      ]
    },
    {
      "cell_type": "code",
      "source": [
        "from sklearn.linear_model import LinearRegression\n",
        "lin_reg_pipe = make_pipeline(preprocessor, LinearRegression())\n",
        "lin_reg_pipe.fit(X_train, y_train)"
      ],
      "metadata": {
        "id": "geQ0kFjeD75y",
        "colab": {
          "base_uri": "https://localhost:8080/",
          "height": 227
        },
        "outputId": "df29ac3a-f562-4f53-a868-d7e878cd7aa9"
      },
      "execution_count": null,
      "outputs": [
        {
          "output_type": "execute_result",
          "data": {
            "text/plain": [
              "Pipeline(steps=[('columntransformer',\n",
              "                 ColumnTransformer(remainder='passthrough',\n",
              "                                   transformers=[('pipeline-1',\n",
              "                                                  Pipeline(steps=[('simpleimputer',\n",
              "                                                                   SimpleImputer()),\n",
              "                                                                  ('standardscaler',\n",
              "                                                                   StandardScaler())]),\n",
              "                                                  <sklearn.compose._column_transformer.make_column_selector object at 0x7f52fc1e9a50>),\n",
              "                                                 ('pipeline-2',\n",
              "                                                  Pipeline(steps=[('simpleimputer',\n",
              "                                                                   SimpleImputer(strategy='most_frequent')),\n",
              "                                                                  ('onehotencoder',\n",
              "                                                                   OneHotEncoder(handle_unknown='ignore',\n",
              "                                                                                 sparse=False))]),\n",
              "                                                  <sklearn.compose._column_transformer.make_column_selector object at 0x7f52fc1e9a10>)])),\n",
              "                ('linearregression', LinearRegression())])"
            ],
            "text/html": [
              "<style>#sk-2b69c88a-626e-41a7-b9e5-87bf4832f261 {color: black;background-color: white;}#sk-2b69c88a-626e-41a7-b9e5-87bf4832f261 pre{padding: 0;}#sk-2b69c88a-626e-41a7-b9e5-87bf4832f261 div.sk-toggleable {background-color: white;}#sk-2b69c88a-626e-41a7-b9e5-87bf4832f261 label.sk-toggleable__label {cursor: pointer;display: block;width: 100%;margin-bottom: 0;padding: 0.3em;box-sizing: border-box;text-align: center;}#sk-2b69c88a-626e-41a7-b9e5-87bf4832f261 label.sk-toggleable__label-arrow:before {content: \"▸\";float: left;margin-right: 0.25em;color: #696969;}#sk-2b69c88a-626e-41a7-b9e5-87bf4832f261 label.sk-toggleable__label-arrow:hover:before {color: black;}#sk-2b69c88a-626e-41a7-b9e5-87bf4832f261 div.sk-estimator:hover label.sk-toggleable__label-arrow:before {color: black;}#sk-2b69c88a-626e-41a7-b9e5-87bf4832f261 div.sk-toggleable__content {max-height: 0;max-width: 0;overflow: hidden;text-align: left;background-color: #f0f8ff;}#sk-2b69c88a-626e-41a7-b9e5-87bf4832f261 div.sk-toggleable__content pre {margin: 0.2em;color: black;border-radius: 0.25em;background-color: #f0f8ff;}#sk-2b69c88a-626e-41a7-b9e5-87bf4832f261 input.sk-toggleable__control:checked~div.sk-toggleable__content {max-height: 200px;max-width: 100%;overflow: auto;}#sk-2b69c88a-626e-41a7-b9e5-87bf4832f261 input.sk-toggleable__control:checked~label.sk-toggleable__label-arrow:before {content: \"▾\";}#sk-2b69c88a-626e-41a7-b9e5-87bf4832f261 div.sk-estimator input.sk-toggleable__control:checked~label.sk-toggleable__label {background-color: #d4ebff;}#sk-2b69c88a-626e-41a7-b9e5-87bf4832f261 div.sk-label input.sk-toggleable__control:checked~label.sk-toggleable__label {background-color: #d4ebff;}#sk-2b69c88a-626e-41a7-b9e5-87bf4832f261 input.sk-hidden--visually {border: 0;clip: rect(1px 1px 1px 1px);clip: rect(1px, 1px, 1px, 1px);height: 1px;margin: -1px;overflow: hidden;padding: 0;position: absolute;width: 1px;}#sk-2b69c88a-626e-41a7-b9e5-87bf4832f261 div.sk-estimator {font-family: monospace;background-color: #f0f8ff;border: 1px dotted black;border-radius: 0.25em;box-sizing: border-box;margin-bottom: 0.5em;}#sk-2b69c88a-626e-41a7-b9e5-87bf4832f261 div.sk-estimator:hover {background-color: #d4ebff;}#sk-2b69c88a-626e-41a7-b9e5-87bf4832f261 div.sk-parallel-item::after {content: \"\";width: 100%;border-bottom: 1px solid gray;flex-grow: 1;}#sk-2b69c88a-626e-41a7-b9e5-87bf4832f261 div.sk-label:hover label.sk-toggleable__label {background-color: #d4ebff;}#sk-2b69c88a-626e-41a7-b9e5-87bf4832f261 div.sk-serial::before {content: \"\";position: absolute;border-left: 1px solid gray;box-sizing: border-box;top: 2em;bottom: 0;left: 50%;}#sk-2b69c88a-626e-41a7-b9e5-87bf4832f261 div.sk-serial {display: flex;flex-direction: column;align-items: center;background-color: white;padding-right: 0.2em;padding-left: 0.2em;}#sk-2b69c88a-626e-41a7-b9e5-87bf4832f261 div.sk-item {z-index: 1;}#sk-2b69c88a-626e-41a7-b9e5-87bf4832f261 div.sk-parallel {display: flex;align-items: stretch;justify-content: center;background-color: white;}#sk-2b69c88a-626e-41a7-b9e5-87bf4832f261 div.sk-parallel::before {content: \"\";position: absolute;border-left: 1px solid gray;box-sizing: border-box;top: 2em;bottom: 0;left: 50%;}#sk-2b69c88a-626e-41a7-b9e5-87bf4832f261 div.sk-parallel-item {display: flex;flex-direction: column;position: relative;background-color: white;}#sk-2b69c88a-626e-41a7-b9e5-87bf4832f261 div.sk-parallel-item:first-child::after {align-self: flex-end;width: 50%;}#sk-2b69c88a-626e-41a7-b9e5-87bf4832f261 div.sk-parallel-item:last-child::after {align-self: flex-start;width: 50%;}#sk-2b69c88a-626e-41a7-b9e5-87bf4832f261 div.sk-parallel-item:only-child::after {width: 0;}#sk-2b69c88a-626e-41a7-b9e5-87bf4832f261 div.sk-dashed-wrapped {border: 1px dashed gray;margin: 0 0.4em 0.5em 0.4em;box-sizing: border-box;padding-bottom: 0.4em;background-color: white;position: relative;}#sk-2b69c88a-626e-41a7-b9e5-87bf4832f261 div.sk-label label {font-family: monospace;font-weight: bold;background-color: white;display: inline-block;line-height: 1.2em;}#sk-2b69c88a-626e-41a7-b9e5-87bf4832f261 div.sk-label-container {position: relative;z-index: 2;text-align: center;}#sk-2b69c88a-626e-41a7-b9e5-87bf4832f261 div.sk-container {/* jupyter's `normalize.less` sets `[hidden] { display: none; }` but bootstrap.min.css set `[hidden] { display: none !important; }` so we also need the `!important` here to be able to override the default hidden behavior on the sphinx rendered scikit-learn.org. See: https://github.com/scikit-learn/scikit-learn/issues/21755 */display: inline-block !important;position: relative;}#sk-2b69c88a-626e-41a7-b9e5-87bf4832f261 div.sk-text-repr-fallback {display: none;}</style><div id=\"sk-2b69c88a-626e-41a7-b9e5-87bf4832f261\" class=\"sk-top-container\"><div class=\"sk-text-repr-fallback\"><pre>Pipeline(steps=[(&#x27;columntransformer&#x27;,\n",
              "                 ColumnTransformer(remainder=&#x27;passthrough&#x27;,\n",
              "                                   transformers=[(&#x27;pipeline-1&#x27;,\n",
              "                                                  Pipeline(steps=[(&#x27;simpleimputer&#x27;,\n",
              "                                                                   SimpleImputer()),\n",
              "                                                                  (&#x27;standardscaler&#x27;,\n",
              "                                                                   StandardScaler())]),\n",
              "                                                  &lt;sklearn.compose._column_transformer.make_column_selector object at 0x7f52fc1e9a50&gt;),\n",
              "                                                 (&#x27;pipeline-2&#x27;,\n",
              "                                                  Pipeline(steps=[(&#x27;simpleimputer&#x27;,\n",
              "                                                                   SimpleImputer(strategy=&#x27;most_frequent&#x27;)),\n",
              "                                                                  (&#x27;onehotencoder&#x27;,\n",
              "                                                                   OneHotEncoder(handle_unknown=&#x27;ignore&#x27;,\n",
              "                                                                                 sparse=False))]),\n",
              "                                                  &lt;sklearn.compose._column_transformer.make_column_selector object at 0x7f52fc1e9a10&gt;)])),\n",
              "                (&#x27;linearregression&#x27;, LinearRegression())])</pre><b>Please rerun this cell to show the HTML repr or trust the notebook.</b></div><div class=\"sk-container\" hidden><div class=\"sk-item sk-dashed-wrapped\"><div class=\"sk-label-container\"><div class=\"sk-label sk-toggleable\"><input class=\"sk-toggleable__control sk-hidden--visually\" id=\"066b879f-9daf-4241-a4cf-5c0c474a7fc9\" type=\"checkbox\" ><label for=\"066b879f-9daf-4241-a4cf-5c0c474a7fc9\" class=\"sk-toggleable__label sk-toggleable__label-arrow\">Pipeline</label><div class=\"sk-toggleable__content\"><pre>Pipeline(steps=[(&#x27;columntransformer&#x27;,\n",
              "                 ColumnTransformer(remainder=&#x27;passthrough&#x27;,\n",
              "                                   transformers=[(&#x27;pipeline-1&#x27;,\n",
              "                                                  Pipeline(steps=[(&#x27;simpleimputer&#x27;,\n",
              "                                                                   SimpleImputer()),\n",
              "                                                                  (&#x27;standardscaler&#x27;,\n",
              "                                                                   StandardScaler())]),\n",
              "                                                  &lt;sklearn.compose._column_transformer.make_column_selector object at 0x7f52fc1e9a50&gt;),\n",
              "                                                 (&#x27;pipeline-2&#x27;,\n",
              "                                                  Pipeline(steps=[(&#x27;simpleimputer&#x27;,\n",
              "                                                                   SimpleImputer(strategy=&#x27;most_frequent&#x27;)),\n",
              "                                                                  (&#x27;onehotencoder&#x27;,\n",
              "                                                                   OneHotEncoder(handle_unknown=&#x27;ignore&#x27;,\n",
              "                                                                                 sparse=False))]),\n",
              "                                                  &lt;sklearn.compose._column_transformer.make_column_selector object at 0x7f52fc1e9a10&gt;)])),\n",
              "                (&#x27;linearregression&#x27;, LinearRegression())])</pre></div></div></div><div class=\"sk-serial\"><div class=\"sk-item sk-dashed-wrapped\"><div class=\"sk-label-container\"><div class=\"sk-label sk-toggleable\"><input class=\"sk-toggleable__control sk-hidden--visually\" id=\"99735282-5440-4c84-908d-bbcab568b6ef\" type=\"checkbox\" ><label for=\"99735282-5440-4c84-908d-bbcab568b6ef\" class=\"sk-toggleable__label sk-toggleable__label-arrow\">columntransformer: ColumnTransformer</label><div class=\"sk-toggleable__content\"><pre>ColumnTransformer(remainder=&#x27;passthrough&#x27;,\n",
              "                  transformers=[(&#x27;pipeline-1&#x27;,\n",
              "                                 Pipeline(steps=[(&#x27;simpleimputer&#x27;,\n",
              "                                                  SimpleImputer()),\n",
              "                                                 (&#x27;standardscaler&#x27;,\n",
              "                                                  StandardScaler())]),\n",
              "                                 &lt;sklearn.compose._column_transformer.make_column_selector object at 0x7f52fc1e9a50&gt;),\n",
              "                                (&#x27;pipeline-2&#x27;,\n",
              "                                 Pipeline(steps=[(&#x27;simpleimputer&#x27;,\n",
              "                                                  SimpleImputer(strategy=&#x27;most_frequent&#x27;)),\n",
              "                                                 (&#x27;onehotencoder&#x27;,\n",
              "                                                  OneHotEncoder(handle_unknown=&#x27;ignore&#x27;,\n",
              "                                                                sparse=False))]),\n",
              "                                 &lt;sklearn.compose._column_transformer.make_column_selector object at 0x7f52fc1e9a10&gt;)])</pre></div></div></div><div class=\"sk-parallel\"><div class=\"sk-parallel-item\"><div class=\"sk-item\"><div class=\"sk-label-container\"><div class=\"sk-label sk-toggleable\"><input class=\"sk-toggleable__control sk-hidden--visually\" id=\"878a9b27-863c-4d60-8527-b55f45c48975\" type=\"checkbox\" ><label for=\"878a9b27-863c-4d60-8527-b55f45c48975\" class=\"sk-toggleable__label sk-toggleable__label-arrow\">pipeline-1</label><div class=\"sk-toggleable__content\"><pre>&lt;sklearn.compose._column_transformer.make_column_selector object at 0x7f52fc1e9a50&gt;</pre></div></div></div><div class=\"sk-serial\"><div class=\"sk-item\"><div class=\"sk-serial\"><div class=\"sk-item\"><div class=\"sk-estimator sk-toggleable\"><input class=\"sk-toggleable__control sk-hidden--visually\" id=\"fdfc7f45-8248-4c0c-a85e-331456bc9617\" type=\"checkbox\" ><label for=\"fdfc7f45-8248-4c0c-a85e-331456bc9617\" class=\"sk-toggleable__label sk-toggleable__label-arrow\">SimpleImputer</label><div class=\"sk-toggleable__content\"><pre>SimpleImputer()</pre></div></div></div><div class=\"sk-item\"><div class=\"sk-estimator sk-toggleable\"><input class=\"sk-toggleable__control sk-hidden--visually\" id=\"f2c46397-124a-4105-8324-7bb629aa41e9\" type=\"checkbox\" ><label for=\"f2c46397-124a-4105-8324-7bb629aa41e9\" class=\"sk-toggleable__label sk-toggleable__label-arrow\">StandardScaler</label><div class=\"sk-toggleable__content\"><pre>StandardScaler()</pre></div></div></div></div></div></div></div></div><div class=\"sk-parallel-item\"><div class=\"sk-item\"><div class=\"sk-label-container\"><div class=\"sk-label sk-toggleable\"><input class=\"sk-toggleable__control sk-hidden--visually\" id=\"dce4a2d9-c29a-4004-a74d-ffbed9f960c8\" type=\"checkbox\" ><label for=\"dce4a2d9-c29a-4004-a74d-ffbed9f960c8\" class=\"sk-toggleable__label sk-toggleable__label-arrow\">pipeline-2</label><div class=\"sk-toggleable__content\"><pre>&lt;sklearn.compose._column_transformer.make_column_selector object at 0x7f52fc1e9a10&gt;</pre></div></div></div><div class=\"sk-serial\"><div class=\"sk-item\"><div class=\"sk-serial\"><div class=\"sk-item\"><div class=\"sk-estimator sk-toggleable\"><input class=\"sk-toggleable__control sk-hidden--visually\" id=\"11994cd9-554c-4c2c-83c4-f533c54f45c4\" type=\"checkbox\" ><label for=\"11994cd9-554c-4c2c-83c4-f533c54f45c4\" class=\"sk-toggleable__label sk-toggleable__label-arrow\">SimpleImputer</label><div class=\"sk-toggleable__content\"><pre>SimpleImputer(strategy=&#x27;most_frequent&#x27;)</pre></div></div></div><div class=\"sk-item\"><div class=\"sk-estimator sk-toggleable\"><input class=\"sk-toggleable__control sk-hidden--visually\" id=\"7e2488a9-3629-4bb6-93a2-b5887f7be672\" type=\"checkbox\" ><label for=\"7e2488a9-3629-4bb6-93a2-b5887f7be672\" class=\"sk-toggleable__label sk-toggleable__label-arrow\">OneHotEncoder</label><div class=\"sk-toggleable__content\"><pre>OneHotEncoder(handle_unknown=&#x27;ignore&#x27;, sparse=False)</pre></div></div></div></div></div></div></div></div><div class=\"sk-parallel-item\"><div class=\"sk-item\"><div class=\"sk-label-container\"><div class=\"sk-label sk-toggleable\"><input class=\"sk-toggleable__control sk-hidden--visually\" id=\"907c1484-d116-45a9-abf2-4d3a2e6e2ffa\" type=\"checkbox\" ><label for=\"907c1484-d116-45a9-abf2-4d3a2e6e2ffa\" class=\"sk-toggleable__label sk-toggleable__label-arrow\">remainder</label><div class=\"sk-toggleable__content\"><pre>[]</pre></div></div></div><div class=\"sk-serial\"><div class=\"sk-item\"><div class=\"sk-estimator sk-toggleable\"><input class=\"sk-toggleable__control sk-hidden--visually\" id=\"65506bf1-a1ef-4d26-9264-6a6d6e19bd78\" type=\"checkbox\" ><label for=\"65506bf1-a1ef-4d26-9264-6a6d6e19bd78\" class=\"sk-toggleable__label sk-toggleable__label-arrow\">passthrough</label><div class=\"sk-toggleable__content\"><pre>passthrough</pre></div></div></div></div></div></div></div></div><div class=\"sk-item\"><div class=\"sk-estimator sk-toggleable\"><input class=\"sk-toggleable__control sk-hidden--visually\" id=\"fd167345-fbd5-49fb-8f58-33b06a3f7cc7\" type=\"checkbox\" ><label for=\"fd167345-fbd5-49fb-8f58-33b06a3f7cc7\" class=\"sk-toggleable__label sk-toggleable__label-arrow\">LinearRegression</label><div class=\"sk-toggleable__content\"><pre>LinearRegression()</pre></div></div></div></div></div></div></div>"
            ]
          },
          "metadata": {},
          "execution_count": 32
        }
      ]
    },
    {
      "cell_type": "code",
      "source": [
        "train_preds = lin_reg_pipe.predict(X_train)\n",
        "test_preds = lin_reg_pipe.predict(X_test)\n",
        "print(train_preds)\n",
        "print(test_preds)"
      ],
      "metadata": {
        "id": "2DT8hY-ILDN7",
        "colab": {
          "base_uri": "https://localhost:8080/"
        },
        "outputId": "79286a0f-4241-480a-b6b6-79425b471aaa"
      },
      "execution_count": null,
      "outputs": [
        {
          "output_type": "stream",
          "name": "stdout",
          "text": [
            "[3810.60904657 2654.67292606 2608.46156263 ... 3735.21294474 1930.19418524\n",
            " 1536.25173551]\n",
            "[1360.55910613  717.47568991  881.55087906 ... 3303.68786496 2028.61837123\n",
            " 2460.80713775]\n"
          ]
        }
      ]
    },
    {
      "cell_type": "code",
      "source": [
        "from sklearn.metrics import r2_score, mean_squared_error, mean_absolute_error"
      ],
      "metadata": {
        "id": "jNwzh3UHI5gF"
      },
      "execution_count": null,
      "outputs": []
    },
    {
      "cell_type": "code",
      "source": [
        "r2_train = r2_score(y_train, train_preds)\n",
        "print(r2_train)\n",
        "r2_test = r2_score(y_test, test_preds)\n",
        "print(r2_test)"
      ],
      "metadata": {
        "colab": {
          "base_uri": "https://localhost:8080/"
        },
        "id": "ps8k5z1ULUcj",
        "outputId": "d9f43882-2f2c-47dc-d491-f6f2f199973a"
      },
      "execution_count": null,
      "outputs": [
        {
          "output_type": "stream",
          "name": "stdout",
          "text": [
            "0.5615551419174629\n",
            "0.5671041872384912\n"
          ]
        }
      ]
    },
    {
      "cell_type": "code",
      "source": [
        "mae_train = mean_squared_error(y_train, train_preds)\n",
        "mae_test = mean_squared_error(y_test, test_preds)\n",
        "print(mae_train)\n",
        "print(mae_test)"
      ],
      "metadata": {
        "id": "uhTzz8rbfMSH",
        "outputId": "be1115da-af19-498d-e3df-985982d04dbf",
        "colab": {
          "base_uri": "https://localhost:8080/"
        }
      },
      "execution_count": null,
      "outputs": [
        {
          "output_type": "stream",
          "name": "stdout",
          "text": [
            "1297558.136372702\n",
            "1194349.7153956047\n"
          ]
        }
      ]
    },
    {
      "cell_type": "code",
      "source": [
        "rmse_train = np.sqrt(mean_squared_error(y_train,train_preds))\n",
        "rmse_test = np.sqrt(mean_squared_error(y_test,test_preds))\n",
        "print(rmse_train)\n",
        "print(rmse_test)"
      ],
      "metadata": {
        "colab": {
          "base_uri": "https://localhost:8080/"
        },
        "id": "PYREsGDsMieA",
        "outputId": "03870e48-a84d-41b0-b97d-6267d7d42ce5"
      },
      "execution_count": null,
      "outputs": [
        {
          "output_type": "stream",
          "name": "stdout",
          "text": [
            "1139.1040937388918\n",
            "1092.8630817241494\n"
          ]
        }
      ]
    },
    {
      "cell_type": "markdown",
      "source": [
        "With this, I have examined the Linear Regression model with the testing metric and it shows a remarkable lack of extreme overfitting. As it stands, the r2 metric is the best to use to determine the issues of bias that is present in the dataset."
      ],
      "metadata": {
        "id": "u0E4Tzm__Exe"
      }
    },
    {
      "cell_type": "code",
      "source": [
        "from sklearn.tree import DecisionTreeRegressor\n",
        "dec_tree = DecisionTreeRegressor(random_state = 42)\n",
        "dec_tree.get_params()"
      ],
      "metadata": {
        "colab": {
          "base_uri": "https://localhost:8080/"
        },
        "id": "CWYwh9Zmct4j",
        "outputId": "99313bd3-fe4b-45ca-c5f7-d12a7ed4264c"
      },
      "execution_count": null,
      "outputs": [
        {
          "output_type": "execute_result",
          "data": {
            "text/plain": [
              "{'ccp_alpha': 0.0,\n",
              " 'criterion': 'squared_error',\n",
              " 'max_depth': None,\n",
              " 'max_features': None,\n",
              " 'max_leaf_nodes': None,\n",
              " 'min_impurity_decrease': 0.0,\n",
              " 'min_samples_leaf': 1,\n",
              " 'min_samples_split': 2,\n",
              " 'min_weight_fraction_leaf': 0.0,\n",
              " 'random_state': 42,\n",
              " 'splitter': 'best'}"
            ]
          },
          "metadata": {},
          "execution_count": 37
        }
      ]
    },
    {
      "cell_type": "code",
      "source": [
        "dec_tree = make_pipeline(preprocessor, DecisionTreeRegressor(max_depth = 6, random_state = 42))\n",
        "dec_tree.fit(X_train, y_train)\n",
        "train_6_score = dec_tree.score(X_train, y_train)\n",
        "test_6_score = dec_tree.score(X_test, y_test)\n",
        "print(train_6_score)\n",
        "print(test_6_score)\n"
      ],
      "metadata": {
        "colab": {
          "base_uri": "https://localhost:8080/"
        },
        "id": "IrtOAdNZe0c1",
        "outputId": "f9ab7216-32fc-4c2b-8a60-799c8e1fab67"
      },
      "execution_count": null,
      "outputs": [
        {
          "output_type": "stream",
          "name": "stdout",
          "text": [
            "0.6151611782156408\n",
            "0.5825043788609139\n"
          ]
        }
      ]
    },
    {
      "cell_type": "code",
      "source": [
        "train_preds6 = dec_tree.predict(X_train)\n",
        "test_preds6 = dec_tree.predict(X_test)\n",
        "print(train_preds6)\n",
        "print(test_preds6)"
      ],
      "metadata": {
        "id": "1vswaU4kfwnD",
        "outputId": "435d9b37-0a75-4af3-a8fe-9341c2fae24e",
        "colab": {
          "base_uri": "https://localhost:8080/"
        }
      },
      "execution_count": null,
      "outputs": [
        {
          "output_type": "stream",
          "name": "stdout",
          "text": [
            "[4040.76310925 3031.97618314 2505.52919719 ... 4040.76310925 2073.67326471\n",
            " 1388.14801351]\n",
            "[1234.77365714  610.14506873  610.14506873 ... 3506.13358844 2073.67326471\n",
            " 2505.52919719]\n"
          ]
        }
      ]
    },
    {
      "cell_type": "code",
      "source": [
        "mae_train6 = mean_squared_error(y_train, train_preds6)\n",
        "mae_test6 = mean_squared_error(y_test, test_preds6)\n",
        "print(mae_train6)\n",
        "print(mae_test6)"
      ],
      "metadata": {
        "id": "Fxvk1_NUiOrQ",
        "outputId": "aaca728b-2251-4899-bdee-72d76311877f",
        "colab": {
          "base_uri": "https://localhost:8080/"
        }
      },
      "execution_count": null,
      "outputs": [
        {
          "output_type": "stream",
          "name": "stdout",
          "text": [
            "1138913.4464530018\n",
            "1151860.9364814705\n"
          ]
        }
      ]
    },
    {
      "cell_type": "code",
      "source": [
        "r2_train6 = r2_score(y_train, train_preds6)\n",
        "print(r2_train6)\n",
        "r2_test6 = r2_score(y_test, test_preds6)\n",
        "print(r2_test6)"
      ],
      "metadata": {
        "id": "Xbh-wI1gih1K",
        "outputId": "08f921e3-85be-4a64-a0bf-5c56b8526105",
        "colab": {
          "base_uri": "https://localhost:8080/"
        }
      },
      "execution_count": null,
      "outputs": [
        {
          "output_type": "stream",
          "name": "stdout",
          "text": [
            "0.6151611782156408\n",
            "0.5825043788609139\n"
          ]
        }
      ]
    },
    {
      "cell_type": "markdown",
      "source": [
        "This shows that the Decision Tree model is the better model as while it presents both a higher Training and Test scores, tested using the various metrics at our disposal. "
      ],
      "metadata": {
        "id": "JFng80PFisBg"
      }
    },
    {
      "cell_type": "markdown",
      "source": [
        "# In Conclusion:\n",
        "Having tuned this, I have come to conclude that the dataset for this file\n",
        "may be flawed due to the limited amount of data and thus more stringent measures\n",
        "to enter the data correctly, if at all are recommended to remedy this issue\n",
        "for future usage. As it stands, the Decision Tree Model is the most useful for this particular dataset."
      ],
      "metadata": {
        "id": "Ob0BVBFreODF"
      }
    }
  ]
}